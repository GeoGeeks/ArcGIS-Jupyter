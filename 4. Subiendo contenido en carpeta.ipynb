{
 "cells": [
  {
   "cell_type": "code",
   "execution_count": 1,
   "metadata": {},
   "outputs": [
    {
     "name": "stdout",
     "output_type": "stream",
     "text": [
      "Enter your password: ········\n"
     ]
    }
   ],
   "source": [
    "from arcgis.gis import *\n",
    "import os\n",
    "import getpass\n",
    "from IPython.display import display\n",
    "#Creamos una conexión a nuestro ArcGIS Online\n",
    "#Entramos a nuestra cuenta de ArcGIS Online\n",
    "password= getpass.getpass(\"Enter your password: \")\n",
    "dev_gis = GIS(\"https://www.arcgis.com\",\"malejabu\", password)"
   ]
  },
  {
   "cell_type": "code",
   "execution_count": 2,
   "metadata": {},
   "outputs": [
    {
     "name": "stdout",
     "output_type": "stream",
     "text": [
      "¿Desea crear una carpeta para el contenido?: si\n",
      "¿Cómo quiere que se llame la carpeta?: Nuevo contenido\n",
      "La carpeta se ha creado\n"
     ]
    }
   ],
   "source": [
    "\"\"\"Preguntaremos al usuario diferentes aspectos a tener\n",
    "en cuenta en la publicación del contenido, \n",
    "primero, si desea crear una carpeta, \n",
    "segundo, las propiedades del contenido que quiere publicar\n",
    "tercero, la ubicación del archivo, \n",
    "y cuarto si quiere que el contenido se comparta\"\"\"\n",
    "\n",
    "def pregunta(mensaje):\n",
    "    variable= input(mensaje)\n",
    "    return variable\n",
    "\n",
    "#Preguntamos al usuario si desea crear una carpeta\n",
    "si_carpeta= pregunta(\"¿Desea crear una carpeta para el contenido?: \").lower()\n",
    "if(si_carpeta==\"si\"): \n",
    "    nombre_carpeta=pregunta(\"¿Cómo quiere que se llame la carpeta?: \")\n",
    "    dev_gis.content.create_folder(nombre_carpeta)   \n",
    "    print(\"La carpeta se ha creado\")"
   ]
  },
  {
   "cell_type": "code",
   "execution_count": 3,
   "metadata": {},
   "outputs": [
    {
     "name": "stdout",
     "output_type": "stream",
     "text": [
      "Ingrese el título del contenido: Nueva Granada\n",
      "Ingrese los tags del contenido, separados por comas: map, historical, Colombia\n",
      "Ingrese el nombre del archivo que desea publicar: NGranada_1811\n",
      "Ingrese la extensión del archivo: zip\n"
     ]
    }
   ],
   "source": [
    "#Preguntamos al usuario por las propiedades del contenido que publicaremos\n",
    "#Declaramos un diccionario vacío. \n",
    "properties={}\n",
    "properties[\"title\"]= pregunta(\"Ingrese el título del contenido: \")\n",
    "properties[\"tags\"]= pregunta(\"Ingrese los tags del contenido, separados por comas: \")\n",
    "#properties[\"type\"]=\"Feature Collection\"\n",
    "\n",
    "#Solicitamos el archivo: \n",
    "arch= \"./\"+pregunta(\"Ingrese el nombre del archivo que desea publicar: \")+\".\"+pregunta(\"Ingrese la extensión del archivo: \")"
   ]
  },
  {
   "cell_type": "code",
   "execution_count": 4,
   "metadata": {},
   "outputs": [
    {
     "data": {
      "text/html": [
       "<div class=\"item_container\" style=\"height: auto; overflow: hidden; border: 1px solid #cfcfcf; border-radius: 2px; background: #f6fafa; line-height: 1.21429em; padding: 10px;\">\n",
       "                    <div class=\"item_left\" style=\"width: 210px; float: left;\">\n",
       "                       <a href='https://www.arcgis.com/home/item.html?id=9cc56a36f0c14c338295743a820137d2' target='_blank'>\n",
       "                        <img src='http://static.arcgis.com/images/desktopapp.png' class=\"itemThumbnail\">\n",
       "                       </a>\n",
       "                    </div>\n",
       "\n",
       "                    <div class=\"item_right\"     style=\"float: none; width: auto; overflow: hidden;\">\n",
       "                        <a href='https://www.arcgis.com/home/item.html?id=9cc56a36f0c14c338295743a820137d2' target='_blank'><b>Nueva Granada</b>\n",
       "                        </a>\n",
       "                        <br/><img src='https://www.arcgis.com/home/js/jsapi/esri/css/images/item_type_icons/featureshosted16.png' style=\"vertical-align:middle;\">Feature Layer Collection by malejabu\n",
       "                        <br/>Last Modified: agosto 03, 2017\n",
       "                        <br/>0 comments, 0 views\n",
       "                    </div>\n",
       "                </div>\n",
       "                "
      ],
      "text/plain": [
       "<Item title:\"Nueva Granada\" type:Feature Service owner:malejabu>"
      ]
     },
     "metadata": {},
     "output_type": "display_data"
    }
   ],
   "source": [
    "#Agregamos el archivo y lo publicamos\n",
    "item= dev_gis.content.add(properties, arch)\n",
    "feature_layer=item.publish() \n",
    "item.move(folder=nombre_carpeta)\n",
    "feature_layer.move(nombre_carpeta)\n",
    "display(feature_layer)"
   ]
  },
  {
   "cell_type": "code",
   "execution_count": 5,
   "metadata": {},
   "outputs": [
    {
     "data": {
      "application/vnd.jupyter.widget-view+json": {
       "model_id": "dffa1c97e3d2415187d111276db1d305"
      }
     },
     "metadata": {},
     "output_type": "display_data"
    }
   ],
   "source": [
    "map1 = dev_gis.map(\"Colombia\")\n",
    "map1"
   ]
  },
  {
   "cell_type": "code",
   "execution_count": 6,
   "metadata": {
    "collapsed": true
   },
   "outputs": [],
   "source": [
    "map1.add_layer(feature_layer)"
   ]
  }
 ],
 "metadata": {
  "kernelspec": {
   "display_name": "Python 3",
   "language": "python",
   "name": "python3"
  },
  "language_info": {
   "codemirror_mode": {
    "name": "ipython",
    "version": 3
   },
   "file_extension": ".py",
   "mimetype": "text/x-python",
   "name": "python",
   "nbconvert_exporter": "python",
   "pygments_lexer": "ipython3",
   "version": "3.6.1"
  }
 },
 "nbformat": 4,
 "nbformat_minor": 2
}
