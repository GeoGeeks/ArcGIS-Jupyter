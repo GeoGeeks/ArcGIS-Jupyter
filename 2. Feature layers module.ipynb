{
 "cells": [
  {
   "cell_type": "markdown",
   "metadata": {},
   "source": [
    "# Módulo de Feature Layers"
   ]
  },
  {
   "cell_type": "markdown",
   "metadata": {},
   "source": [
    "## Accediendo a Feature Layers"
   ]
  },
  {
   "cell_type": "code",
   "execution_count": 1,
   "metadata": {
    "collapsed": true
   },
   "outputs": [],
   "source": [
    "#Conectarse al GIS\n",
    "from arcgis.gis import GIS\n",
    "from IPython.display import display\n",
    "gis=GIS() #Conexión anónima. "
   ]
  },
  {
   "cell_type": "code",
   "execution_count": 2,
   "metadata": {},
   "outputs": [
    {
     "data": {
      "text/html": [
       "<div class=\"item_container\" style=\"height: auto; overflow: hidden; border: 1px solid #cfcfcf; border-radius: 2px; background: #f6fafa; line-height: 1.21429em; padding: 10px;\">\n",
       "                    <div class=\"item_left\" style=\"width: 210px; float: left;\">\n",
       "                       <a href='http://www.arcgis.com/home/item.html?id=85d0ca4ea1ca4b9abf0c51b9bd34de2e' target='_blank'>\n",
       "                        <img src='http://www.arcgis.com/sharing/rest//content/items/85d0ca4ea1ca4b9abf0c51b9bd34de2e/info/thumbnail/usa_major_cities.jpg' class=\"itemThumbnail\">\n",
       "                       </a>\n",
       "                    </div>\n",
       "\n",
       "                    <div class=\"item_right\"     style=\"float: none; width: auto; overflow: hidden;\">\n",
       "                        <a href='http://www.arcgis.com/home/item.html?id=85d0ca4ea1ca4b9abf0c51b9bd34de2e' target='_blank'><b>USA Major Cities</b>\n",
       "                        </a>\n",
       "                        <br/>This layer presents the locations of cities within United States with populations of 10,000 or greater (based on Census 2000 figures), all state capitals, and the national capital.<img src='http://www.arcgis.com/home/js/jsapi/esri/css/images/item_type_icons/featureshosted16.png' style=\"vertical-align:middle;\">Feature Layer Collection by esri\n",
       "                        <br/>Last Modified: febrero 07, 2017\n",
       "                        <br/>2 comments, 1.203.191 views\n",
       "                    </div>\n",
       "                </div>\n",
       "                "
      ],
      "text/plain": [
       "<Item title:\"USA Major Cities\" type:Feature Service owner:esri>"
      ]
     },
     "execution_count": 2,
     "metadata": {},
     "output_type": "execute_result"
    }
   ],
   "source": [
    "#Búsqueda de una capa es ArcGIS Online\n",
    "search_results= gis.content.search('title: USA Major Cities and owner: esri', 'Feature Layer')\n",
    "major_cities_item = search_results[0]\n",
    "major_cities_item"
   ]
  },
  {
   "cell_type": "code",
   "execution_count": 3,
   "metadata": {},
   "outputs": [
    {
     "data": {
      "text/plain": [
       "[<FeatureLayer url:\"https://services.arcgis.com/P3ePLMYs2RVChkJx/arcgis/rest/services/USA_Major_Cities/FeatureServer/0\">]"
      ]
     },
     "execution_count": 3,
     "metadata": {},
     "output_type": "execute_result"
    }
   ],
   "source": [
    "#Accedemos a las capas que componen el item\n",
    "major_cities_layers = major_cities_item.layers\n",
    "major_cities_layers"
   ]
  },
  {
   "cell_type": "code",
   "execution_count": 4,
   "metadata": {},
   "outputs": [
    {
     "data": {
      "text/plain": [
       "{\n",
       "  \"xmin\": -17608123.3895845,\n",
       "  \"ymin\": 2237818.89912024,\n",
       "  \"xmax\": -7656889.54512499,\n",
       "  \"ymax\": 9568526.08684907,\n",
       "  \"spatialReference\": {\n",
       "    \"wkid\": 102100,\n",
       "    \"latestWkid\": 3857\n",
       "  }\n",
       "}"
      ]
     },
     "execution_count": 4,
     "metadata": {},
     "output_type": "execute_result"
    }
   ],
   "source": [
    "#Acceder a las propiedades del FeatureLayer\n",
    "feature_layer=major_cities_layers[0]\n",
    "feature_layer.properties.extent"
   ]
  },
  {
   "cell_type": "code",
   "execution_count": 5,
   "metadata": {},
   "outputs": [
    {
     "data": {
      "text/plain": [
       "'Query'"
      ]
     },
     "execution_count": 5,
     "metadata": {},
     "output_type": "execute_result"
    }
   ],
   "source": [
    "#Ver que operaciones se pueden realizar sobre la capa. \n",
    "feature_layer.properties.capabilities"
   ]
  },
  {
   "cell_type": "markdown",
   "metadata": {},
   "source": [
    "## Querying "
   ]
  },
  {
   "cell_type": "code",
   "execution_count": 6,
   "metadata": {},
   "outputs": [
    {
     "name": "stdout",
     "output_type": "stream",
     "text": [
      "FID\n",
      "NAME\n",
      "CLASS\n",
      "ST\n",
      "STFIPS\n",
      "PLACEFIP\n",
      "CAPITAL\n",
      "AREALAND\n",
      "AREAWATER\n",
      "POP_CLASS\n",
      "POP2000\n",
      "POP2007\n",
      "WHITE\n",
      "BLACK\n",
      "AMERI_ES\n",
      "ASIAN\n",
      "HAWN_PI\n",
      "OTHER\n",
      "MULT_RACE\n",
      "HISPANIC\n",
      "MALES\n",
      "FEMALES\n",
      "AGE_UNDER5\n",
      "AGE_5_17\n",
      "AGE_18_21\n",
      "AGE_22_29\n",
      "AGE_30_39\n",
      "AGE_40_49\n",
      "AGE_50_64\n",
      "AGE_65_UP\n",
      "MED_AGE\n",
      "MED_AGE_M\n",
      "MED_AGE_F\n",
      "HOUSEHOLDS\n",
      "AVE_HH_SZ\n",
      "HSEHLD_1_M\n",
      "HSEHLD_1_F\n",
      "MARHH_CHD\n",
      "MARHH_NO_C\n",
      "MHH_CHILD\n",
      "FHH_CHILD\n",
      "FAMILIES\n",
      "AVE_FAM_SZ\n",
      "HSE_UNITS\n",
      "VACANT\n",
      "OWNER_OCC\n",
      "RENTER_OCC\n"
     ]
    }
   ],
   "source": [
    "#Saber qué campos tiene el FeatureLayer\n",
    "for f in feature_layer.properties.fields: \n",
    "    print(f['name'])"
   ]
  },
  {
   "cell_type": "code",
   "execution_count": 7,
   "metadata": {},
   "outputs": [
    {
     "data": {
      "text/plain": [
       "9"
      ]
     },
     "execution_count": 7,
     "metadata": {},
     "output_type": "execute_result"
    }
   ],
   "source": [
    "\"\"\"Realizando una consulta para seleccionar \n",
    "   todas las ciudades cuya población en el año 2007 \n",
    "   fue mayor a 1 millon y seleccionando los campos asociados a \n",
    "   población\"\"\"\n",
    "query_result1 = feature_layer.query(where='POP2007>1000000', \n",
    "                                    out_fields='NAME,WHITE,BLACK,MULT_RACE,HISPANIC')\n",
    "#Saber la cantidad de ciudades que cumplen con la condición\n",
    "len(query_result1.features)\n"
   ]
  },
  {
   "cell_type": "code",
   "execution_count": 8,
   "metadata": {},
   "outputs": [
    {
     "data": {
      "text/plain": [
       "[{'alias': 'NAME',\n",
       "  'defaultValue': None,\n",
       "  'domain': None,\n",
       "  'length': 40,\n",
       "  'name': 'NAME',\n",
       "  'sqlType': 'sqlTypeNVarchar',\n",
       "  'type': 'esriFieldTypeString'},\n",
       " {'alias': 'WHITE',\n",
       "  'defaultValue': None,\n",
       "  'domain': None,\n",
       "  'name': 'WHITE',\n",
       "  'sqlType': 'sqlTypeInteger',\n",
       "  'type': 'esriFieldTypeInteger'},\n",
       " {'alias': 'BLACK',\n",
       "  'defaultValue': None,\n",
       "  'domain': None,\n",
       "  'name': 'BLACK',\n",
       "  'sqlType': 'sqlTypeInteger',\n",
       "  'type': 'esriFieldTypeInteger'},\n",
       " {'alias': 'MULT_RACE',\n",
       "  'defaultValue': None,\n",
       "  'domain': None,\n",
       "  'name': 'MULT_RACE',\n",
       "  'sqlType': 'sqlTypeInteger',\n",
       "  'type': 'esriFieldTypeInteger'},\n",
       " {'alias': 'HISPANIC',\n",
       "  'defaultValue': None,\n",
       "  'domain': None,\n",
       "  'name': 'HISPANIC',\n",
       "  'sqlType': 'sqlTypeInteger',\n",
       "  'type': 'esriFieldTypeInteger'}]"
      ]
     },
     "execution_count": 8,
     "metadata": {},
     "output_type": "execute_result"
    }
   ],
   "source": [
    "query_result1.fields"
   ]
  },
  {
   "cell_type": "code",
   "execution_count": 9,
   "metadata": {},
   "outputs": [
    {
     "data": {
      "text/plain": [
       "{\"geometry\": {\"x\": -13040671.540682055, \"y\": 3866078.7598941037}, \"attributes\": {\"NAME\": \"San Diego\", \"WHITE\": 736207, \"BLACK\": 96216, \"MULT_RACE\": 59081, \"HISPANIC\": 310752}}"
      ]
     },
     "metadata": {},
     "output_type": "display_data"
    },
    {
     "data": {
      "text/plain": [
       "{\"geometry\": {\"x\": -12476276.658979658, \"y\": 3965648.4427011893}, \"attributes\": {\"NAME\": \"Phoenix\", \"WHITE\": 938853, \"BLACK\": 67416, \"MULT_RACE\": 43276, \"HISPANIC\": 449972}}"
      ]
     },
     "metadata": {},
     "output_type": "display_data"
    },
    {
     "data": {
      "text/plain": [
       "{\"geometry\": {\"x\": -13177553.994317034, \"y\": 4040377.5781160803}, \"attributes\": {\"NAME\": \"Los Angeles\", \"WHITE\": 1734036, \"BLACK\": 415195, \"MULT_RACE\": 191288, \"HISPANIC\": 1719073}}"
      ]
     },
     "metadata": {},
     "output_type": "display_data"
    },
    {
     "data": {
      "text/plain": [
       "{\"geometry\": {\"x\": -10774297.766983679, \"y\": 3868724.6751567707}, \"attributes\": {\"NAME\": \"Dallas\", \"WHITE\": 604209, \"BLACK\": 307957, \"MULT_RACE\": 32351, \"HISPANIC\": 422587}}"
      ]
     },
     "metadata": {},
     "output_type": "display_data"
    },
    {
     "data": {
      "text/plain": [
       "{\"geometry\": {\"x\": -10966381.550856367, \"y\": 3433242.959915034}, \"attributes\": {\"NAME\": \"San Antonio\", \"WHITE\": 774708, \"BLACK\": 78120, \"MULT_RACE\": 41871, \"HISPANIC\": 671394}}"
      ]
     },
     "metadata": {},
     "output_type": "display_data"
    },
    {
     "data": {
      "text/plain": [
       "{\"geometry\": {\"x\": -10618006.204881966, \"y\": 3473107.977316641}, \"attributes\": {\"NAME\": \"Houston\", \"WHITE\": 962610, \"BLACK\": 494496, \"MULT_RACE\": 61478, \"HISPANIC\": 730865}}"
      ]
     },
     "metadata": {},
     "output_type": "display_data"
    },
    {
     "data": {
      "text/plain": [
       "{\"geometry\": {\"x\": -9760422.108236535, \"y\": 5137142.70607142}, \"attributes\": {\"NAME\": \"Chicago\", \"WHITE\": 1215315, \"BLACK\": 1065009, \"MULT_RACE\": 84437, \"HISPANIC\": 753644}}"
      ]
     },
     "metadata": {},
     "output_type": "display_data"
    },
    {
     "data": {
      "text/plain": [
       "{\"geometry\": {\"x\": -8365079.878023293, \"y\": 4865652.978620951}, \"attributes\": {\"NAME\": \"Philadelphia\", \"WHITE\": 683267, \"BLACK\": 655824, \"MULT_RACE\": 33574, \"HISPANIC\": 128928}}"
      ]
     },
     "metadata": {},
     "output_type": "display_data"
    },
    {
     "data": {
      "text/plain": [
       "{\"geometry\": {\"x\": -8228506.000714422, \"y\": 4968813.957009557}, \"attributes\": {\"NAME\": \"New York\", \"WHITE\": 3576385, \"BLACK\": 2129762, \"MULT_RACE\": 393959, \"HISPANIC\": 2160554}}"
      ]
     },
     "metadata": {},
     "output_type": "display_data"
    }
   ],
   "source": [
    "for f in query_result1: \n",
    "    display(f)"
   ]
  },
  {
   "cell_type": "code",
   "execution_count": 10,
   "metadata": {},
   "outputs": [
    {
     "data": {
      "text/html": [
       "<div>\n",
       "<style>\n",
       "    .dataframe thead tr:only-child th {\n",
       "        text-align: right;\n",
       "    }\n",
       "\n",
       "    .dataframe thead th {\n",
       "        text-align: left;\n",
       "    }\n",
       "\n",
       "    .dataframe tbody tr th {\n",
       "        vertical-align: top;\n",
       "    }\n",
       "</style>\n",
       "<table border=\"1\" class=\"dataframe\">\n",
       "  <thead>\n",
       "    <tr style=\"text-align: right;\">\n",
       "      <th></th>\n",
       "      <th>AGE_18_21</th>\n",
       "      <th>AGE_22_29</th>\n",
       "      <th>AGE_30_39</th>\n",
       "      <th>AGE_40_49</th>\n",
       "      <th>AGE_50_64</th>\n",
       "      <th>AGE_5_17</th>\n",
       "      <th>AGE_65_UP</th>\n",
       "      <th>AGE_UNDER5</th>\n",
       "      <th>AMERI_ES</th>\n",
       "      <th>AREALAND</th>\n",
       "      <th>...</th>\n",
       "      <th>POP2000</th>\n",
       "      <th>POP2007</th>\n",
       "      <th>POP_CLASS</th>\n",
       "      <th>RENTER_OCC</th>\n",
       "      <th>ST</th>\n",
       "      <th>STFIPS</th>\n",
       "      <th>VACANT</th>\n",
       "      <th>WHITE</th>\n",
       "      <th>geometry.x</th>\n",
       "      <th>geometry.y</th>\n",
       "    </tr>\n",
       "    <tr>\n",
       "      <th>FID</th>\n",
       "      <th></th>\n",
       "      <th></th>\n",
       "      <th></th>\n",
       "      <th></th>\n",
       "      <th></th>\n",
       "      <th></th>\n",
       "      <th></th>\n",
       "      <th></th>\n",
       "      <th></th>\n",
       "      <th></th>\n",
       "      <th></th>\n",
       "      <th></th>\n",
       "      <th></th>\n",
       "      <th></th>\n",
       "      <th></th>\n",
       "      <th></th>\n",
       "      <th></th>\n",
       "      <th></th>\n",
       "      <th></th>\n",
       "      <th></th>\n",
       "      <th></th>\n",
       "    </tr>\n",
       "  </thead>\n",
       "  <tbody>\n",
       "    <tr>\n",
       "      <th>445</th>\n",
       "      <td>85983</td>\n",
       "      <td>176567</td>\n",
       "      <td>210745</td>\n",
       "      <td>174023</td>\n",
       "      <td>154166</td>\n",
       "      <td>211385</td>\n",
       "      <td>128008</td>\n",
       "      <td>82523</td>\n",
       "      <td>7543</td>\n",
       "      <td>324.341</td>\n",
       "      <td>...</td>\n",
       "      <td>1223400</td>\n",
       "      <td>1301514</td>\n",
       "      <td>10</td>\n",
       "      <td>227411</td>\n",
       "      <td>CA</td>\n",
       "      <td>06</td>\n",
       "      <td>18998</td>\n",
       "      <td>736207</td>\n",
       "      <td>-1.304067e+07</td>\n",
       "      <td>3.866079e+06</td>\n",
       "    </tr>\n",
       "    <tr>\n",
       "      <th>530</th>\n",
       "      <td>80898</td>\n",
       "      <td>179201</td>\n",
       "      <td>222468</td>\n",
       "      <td>185726</td>\n",
       "      <td>163522</td>\n",
       "      <td>267919</td>\n",
       "      <td>106795</td>\n",
       "      <td>114516</td>\n",
       "      <td>26696</td>\n",
       "      <td>474.862</td>\n",
       "      <td>...</td>\n",
       "      <td>1321045</td>\n",
       "      <td>1502129</td>\n",
       "      <td>10</td>\n",
       "      <td>183164</td>\n",
       "      <td>AZ</td>\n",
       "      <td>04</td>\n",
       "      <td>29998</td>\n",
       "      <td>938853</td>\n",
       "      <td>-1.247628e+07</td>\n",
       "      <td>3.965648e+06</td>\n",
       "    </tr>\n",
       "    <tr>\n",
       "      <th>590</th>\n",
       "      <td>226327</td>\n",
       "      <td>522360</td>\n",
       "      <td>644779</td>\n",
       "      <td>508091</td>\n",
       "      <td>454823</td>\n",
       "      <td>695335</td>\n",
       "      <td>357129</td>\n",
       "      <td>285976</td>\n",
       "      <td>29412</td>\n",
       "      <td>469.072</td>\n",
       "      <td>...</td>\n",
       "      <td>3694820</td>\n",
       "      <td>3908521</td>\n",
       "      <td>10</td>\n",
       "      <td>783530</td>\n",
       "      <td>CA</td>\n",
       "      <td>06</td>\n",
       "      <td>62294</td>\n",
       "      <td>1734036</td>\n",
       "      <td>-1.317755e+07</td>\n",
       "      <td>4.040378e+06</td>\n",
       "    </tr>\n",
       "    <tr>\n",
       "      <th>968</th>\n",
       "      <td>72341</td>\n",
       "      <td>194619</td>\n",
       "      <td>208079</td>\n",
       "      <td>157720</td>\n",
       "      <td>137944</td>\n",
       "      <td>216791</td>\n",
       "      <td>102301</td>\n",
       "      <td>98785</td>\n",
       "      <td>6472</td>\n",
       "      <td>342.542</td>\n",
       "      <td>...</td>\n",
       "      <td>1188580</td>\n",
       "      <td>1259459</td>\n",
       "      <td>10</td>\n",
       "      <td>256498</td>\n",
       "      <td>TX</td>\n",
       "      <td>48</td>\n",
       "      <td>32284</td>\n",
       "      <td>604209</td>\n",
       "      <td>-1.077430e+07</td>\n",
       "      <td>3.868725e+06</td>\n",
       "    </tr>\n",
       "    <tr>\n",
       "      <th>1069</th>\n",
       "      <td>70941</td>\n",
       "      <td>143970</td>\n",
       "      <td>177249</td>\n",
       "      <td>158471</td>\n",
       "      <td>147996</td>\n",
       "      <td>234211</td>\n",
       "      <td>119362</td>\n",
       "      <td>92446</td>\n",
       "      <td>9584</td>\n",
       "      <td>407.557</td>\n",
       "      <td>...</td>\n",
       "      <td>1144646</td>\n",
       "      <td>1259735</td>\n",
       "      <td>10</td>\n",
       "      <td>169775</td>\n",
       "      <td>TX</td>\n",
       "      <td>48</td>\n",
       "      <td>27648</td>\n",
       "      <td>774708</td>\n",
       "      <td>-1.096638e+07</td>\n",
       "      <td>3.433243e+06</td>\n",
       "    </tr>\n",
       "    <tr>\n",
       "      <th>1297</th>\n",
       "      <td>117621</td>\n",
       "      <td>288621</td>\n",
       "      <td>324687</td>\n",
       "      <td>276105</td>\n",
       "      <td>245874</td>\n",
       "      <td>375861</td>\n",
       "      <td>164065</td>\n",
       "      <td>160797</td>\n",
       "      <td>8568</td>\n",
       "      <td>579.413</td>\n",
       "      <td>...</td>\n",
       "      <td>1953631</td>\n",
       "      <td>2109413</td>\n",
       "      <td>10</td>\n",
       "      <td>389204</td>\n",
       "      <td>TX</td>\n",
       "      <td>48</td>\n",
       "      <td>64064</td>\n",
       "      <td>962610</td>\n",
       "      <td>-1.061801e+07</td>\n",
       "      <td>3.473108e+06</td>\n",
       "    </tr>\n",
       "    <tr>\n",
       "      <th>2566</th>\n",
       "      <td>172620</td>\n",
       "      <td>431648</td>\n",
       "      <td>479483</td>\n",
       "      <td>384230</td>\n",
       "      <td>369392</td>\n",
       "      <td>541318</td>\n",
       "      <td>298803</td>\n",
       "      <td>218522</td>\n",
       "      <td>10290</td>\n",
       "      <td>227.131</td>\n",
       "      <td>...</td>\n",
       "      <td>2896016</td>\n",
       "      <td>2921775</td>\n",
       "      <td>10</td>\n",
       "      <td>597063</td>\n",
       "      <td>IL</td>\n",
       "      <td>17</td>\n",
       "      <td>90940</td>\n",
       "      <td>1215315</td>\n",
       "      <td>-9.760422e+06</td>\n",
       "      <td>5.137143e+06</td>\n",
       "    </tr>\n",
       "    <tr>\n",
       "      <th>3051</th>\n",
       "      <td>99908</td>\n",
       "      <td>182284</td>\n",
       "      <td>221352</td>\n",
       "      <td>206084</td>\n",
       "      <td>210731</td>\n",
       "      <td>285308</td>\n",
       "      <td>213722</td>\n",
       "      <td>98161</td>\n",
       "      <td>4073</td>\n",
       "      <td>135.089</td>\n",
       "      <td>...</td>\n",
       "      <td>1517550</td>\n",
       "      <td>1475892</td>\n",
       "      <td>10</td>\n",
       "      <td>240438</td>\n",
       "      <td>PA</td>\n",
       "      <td>42</td>\n",
       "      <td>71887</td>\n",
       "      <td>683267</td>\n",
       "      <td>-8.365080e+06</td>\n",
       "      <td>4.865653e+06</td>\n",
       "    </tr>\n",
       "    <tr>\n",
       "      <th>3252</th>\n",
       "      <td>433490</td>\n",
       "      <td>1050181</td>\n",
       "      <td>1348263</td>\n",
       "      <td>1133497</td>\n",
       "      <td>1164721</td>\n",
       "      <td>1399391</td>\n",
       "      <td>937857</td>\n",
       "      <td>540878</td>\n",
       "      <td>41289</td>\n",
       "      <td>303.309</td>\n",
       "      <td>...</td>\n",
       "      <td>8008278</td>\n",
       "      <td>8323732</td>\n",
       "      <td>10</td>\n",
       "      <td>2109292</td>\n",
       "      <td>NY</td>\n",
       "      <td>36</td>\n",
       "      <td>179324</td>\n",
       "      <td>3576385</td>\n",
       "      <td>-8.228506e+06</td>\n",
       "      <td>4.968814e+06</td>\n",
       "    </tr>\n",
       "  </tbody>\n",
       "</table>\n",
       "<p>9 rows × 48 columns</p>\n",
       "</div>"
      ],
      "text/plain": [
       "      AGE_18_21  AGE_22_29  AGE_30_39  AGE_40_49  AGE_50_64  AGE_5_17  \\\n",
       "FID                                                                     \n",
       "445       85983     176567     210745     174023     154166    211385   \n",
       "530       80898     179201     222468     185726     163522    267919   \n",
       "590      226327     522360     644779     508091     454823    695335   \n",
       "968       72341     194619     208079     157720     137944    216791   \n",
       "1069      70941     143970     177249     158471     147996    234211   \n",
       "1297     117621     288621     324687     276105     245874    375861   \n",
       "2566     172620     431648     479483     384230     369392    541318   \n",
       "3051      99908     182284     221352     206084     210731    285308   \n",
       "3252     433490    1050181    1348263    1133497    1164721   1399391   \n",
       "\n",
       "      AGE_65_UP  AGE_UNDER5  AMERI_ES  AREALAND      ...       POP2000  \\\n",
       "FID                                                  ...                 \n",
       "445      128008       82523      7543   324.341      ...       1223400   \n",
       "530      106795      114516     26696   474.862      ...       1321045   \n",
       "590      357129      285976     29412   469.072      ...       3694820   \n",
       "968      102301       98785      6472   342.542      ...       1188580   \n",
       "1069     119362       92446      9584   407.557      ...       1144646   \n",
       "1297     164065      160797      8568   579.413      ...       1953631   \n",
       "2566     298803      218522     10290   227.131      ...       2896016   \n",
       "3051     213722       98161      4073   135.089      ...       1517550   \n",
       "3252     937857      540878     41289   303.309      ...       8008278   \n",
       "\n",
       "      POP2007  POP_CLASS  RENTER_OCC  ST STFIPS  VACANT    WHITE  \\\n",
       "FID                                                                \n",
       "445   1301514         10      227411  CA     06   18998   736207   \n",
       "530   1502129         10      183164  AZ     04   29998   938853   \n",
       "590   3908521         10      783530  CA     06   62294  1734036   \n",
       "968   1259459         10      256498  TX     48   32284   604209   \n",
       "1069  1259735         10      169775  TX     48   27648   774708   \n",
       "1297  2109413         10      389204  TX     48   64064   962610   \n",
       "2566  2921775         10      597063  IL     17   90940  1215315   \n",
       "3051  1475892         10      240438  PA     42   71887   683267   \n",
       "3252  8323732         10     2109292  NY     36  179324  3576385   \n",
       "\n",
       "        geometry.x    geometry.y  \n",
       "FID                               \n",
       "445  -1.304067e+07  3.866079e+06  \n",
       "530  -1.247628e+07  3.965648e+06  \n",
       "590  -1.317755e+07  4.040378e+06  \n",
       "968  -1.077430e+07  3.868725e+06  \n",
       "1069 -1.096638e+07  3.433243e+06  \n",
       "1297 -1.061801e+07  3.473108e+06  \n",
       "2566 -9.760422e+06  5.137143e+06  \n",
       "3051 -8.365080e+06  4.865653e+06  \n",
       "3252 -8.228506e+06  4.968814e+06  \n",
       "\n",
       "[9 rows x 48 columns]"
      ]
     },
     "execution_count": 10,
     "metadata": {},
     "output_type": "execute_result"
    }
   ],
   "source": [
    "#Mostrando los datos como un dataframe \n",
    "query2 = feature_layer.query(where=\"POP2007>1000000\")\n",
    "query2.df"
   ]
  },
  {
   "cell_type": "code",
   "execution_count": null,
   "metadata": {
    "collapsed": true
   },
   "outputs": [],
   "source": []
  }
 ],
 "metadata": {
  "kernelspec": {
   "display_name": "Python 3",
   "language": "python",
   "name": "python3"
  },
  "language_info": {
   "codemirror_mode": {
    "name": "ipython",
    "version": 3
   },
   "file_extension": ".py",
   "mimetype": "text/x-python",
   "name": "python",
   "nbconvert_exporter": "python",
   "pygments_lexer": "ipython3",
   "version": "3.6.1"
  }
 },
 "nbformat": 4,
 "nbformat_minor": 2
}
